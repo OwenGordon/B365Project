{
 "cells": [
  {
   "cell_type": "code",
   "execution_count": 1,
   "id": "4f19c699-76e3-4712-bd31-ad7c6cce9243",
   "metadata": {},
   "outputs": [],
   "source": [
    "import requests"
   ]
  },
  {
   "cell_type": "code",
   "execution_count": 13,
   "id": "860b7278-d3ae-4da9-befb-31438c438058",
   "metadata": {},
   "outputs": [],
   "source": [
    "r = requests.get(\"https://exoplanetarchive.ipac.caltech.edu/cgi-bin/nstedAPI/nph-nstedAPI?table=cumulative\")"
   ]
  },
  {
   "cell_type": "code",
   "execution_count": 14,
   "id": "9bb23955-7f54-47e7-9a0c-2defb17dd465",
   "metadata": {},
   "outputs": [
    {
     "data": {
      "text/plain": [
       "3179031"
      ]
     },
     "execution_count": 14,
     "metadata": {},
     "output_type": "execute_result"
    }
   ],
   "source": [
    "f = open('planet_data.csv', 'w')\n",
    "f.write(r.text)"
   ]
  },
  {
   "cell_type": "code",
   "execution_count": 15,
   "id": "1283f909-63e2-4c97-852e-71944538513f",
   "metadata": {},
   "outputs": [
    {
     "name": "stdout",
     "output_type": "stream",
     "text": [
      "Index(['kepid', 'kepoi_name', 'kepler_name', 'koi_disposition',\n",
      "       'koi_pdisposition', 'koi_score', 'koi_fpflag_nt', 'koi_fpflag_ss',\n",
      "       'koi_fpflag_co', 'koi_fpflag_ec', 'koi_period', 'koi_period_err1',\n",
      "       'koi_period_err2', 'koi_time0bk', 'koi_time0bk_err1',\n",
      "       'koi_time0bk_err2', 'koi_impact', 'koi_impact_err1', 'koi_impact_err2',\n",
      "       'koi_duration', 'koi_duration_err1', 'koi_duration_err2', 'koi_depth',\n",
      "       'koi_depth_err1', 'koi_depth_err2', 'koi_prad', 'koi_prad_err1',\n",
      "       'koi_prad_err2', 'koi_teq', 'koi_teq_err1', 'koi_teq_err2', 'koi_insol',\n",
      "       'koi_insol_err1', 'koi_insol_err2', 'koi_model_snr', 'koi_tce_plnt_num',\n",
      "       'koi_tce_delivname', 'koi_steff', 'koi_steff_err1', 'koi_steff_err2',\n",
      "       'koi_slogg', 'koi_slogg_err1', 'koi_slogg_err2', 'koi_srad',\n",
      "       'koi_srad_err1', 'koi_srad_err2', 'ra_str', 'dec_str', 'koi_kepmag',\n",
      "       'koi_kepmag_err'],\n",
      "      dtype='object')\n"
     ]
    }
   ],
   "source": [
    "import pandas as pd\n",
    "df = pd.read_csv('planet_data.csv')\n",
    "print(df.columns)"
   ]
  },
  {
   "cell_type": "code",
   "execution_count": 5,
   "id": "7d12e58c-81c7-4974-8c55-105f848f351c",
   "metadata": {},
   "outputs": [],
   "source": [
    "confirmed = 0\n",
    "candidate = 0\n",
    "false_positive = 0\n",
    "extracted_data = list()\n",
    "for index, planet in df.iterrows():\n",
    "    \n",
    "    # attributes we care about\n",
    "    disposition = planet.loc['koi_disposition'] # y data\n",
    "    \n",
    "    # x data\n",
    "    koi_period = planet.loc['koi_period']\n",
    "#     koi_eccen = planet.loc['koi_eccen']\n",
    "#     koi_longp = planet.loc['koi_longp']\n",
    "    koi_impact = planet.loc['koi_impact']\n",
    "    koi_duration = planet.loc['koi_duration']\n",
    "    koi_depth = planet.loc['koi_depth']\n",
    "    koi_prad = planet.loc['koi_prad']\n",
    "    koi_teq = planet.loc['koi_teq']\n",
    "    \n",
    "    planet_info = [koi_period, koi_impact, koi_duration, koi_depth, koi_prad, koi_teq]\n",
    "    \n",
    "    if disposition == 'CONFIRMED':\n",
    "        extracted_data.append((planet_info, 1))\n",
    "    elif disposition == 'FALSE POSITIVE':\n",
    "        extracted_data.append((planet_info, 0))\n"
   ]
  },
  {
   "cell_type": "code",
   "execution_count": 6,
   "id": "d344339d-9fc6-457c-ad36-b4138ab7f7cc",
   "metadata": {},
   "outputs": [],
   "source": [
    "import numpy as np\n",
    "\n",
    "clean_data = []\n",
    "\n",
    "for planet in extracted_data:\n",
    "    array = np.array(planet[0])\n",
    "    if np.isnan(array).any():\n",
    "        pass\n",
    "    else:\n",
    "        clean_data.append(planet)\n",
    "\n",
    "np.random.shuffle(clean_data)\n",
    "\n",
    "split = int(0.8 * len(clean_data))\n",
    "train_data = clean_data[:split]\n",
    "test_data = clean_data[split:]\n",
    "\n",
    "x_train = np.array([planet[0] for planet in train_data])\n",
    "y_train = np.array([planet[1] for planet in train_data])\n",
    "\n",
    "x_test = np.array([planet[0] for planet in test_data])\n",
    "y_test = np.array([planet[1] for planet in test_data])"
   ]
  },
  {
   "cell_type": "code",
   "execution_count": 7,
   "id": "9bf90454-ae8e-4fd1-a365-d6d69800b3e8",
   "metadata": {},
   "outputs": [
    {
     "name": "stdout",
     "output_type": "stream",
     "text": [
      "0.7976961843052556\n"
     ]
    }
   ],
   "source": [
    "from sklearn.neural_network import MLPClassifier\n",
    "\n",
    "mlp = MLPClassifier([100, 100, 100, 100, 100, 100])\n",
    "mlp.fit(x_train, y_train)\n",
    "score = mlp.score(x_test, y_test)\n",
    "print(score)"
   ]
  },
  {
   "cell_type": "code",
   "execution_count": 8,
   "id": "2ef74340-648d-47f8-959a-ea36a75ec2b5",
   "metadata": {},
   "outputs": [
    {
     "name": "stdout",
     "output_type": "stream",
     "text": [
      "0.6594672426205903\n"
     ]
    }
   ],
   "source": [
    "from sklearn.svm import SVC\n",
    "\n",
    "clf = SVC()\n",
    "clf.fit(x_train, y_train)\n",
    "score = clf.score(x_test, y_test)\n",
    "print(score)"
   ]
  },
  {
   "cell_type": "code",
   "execution_count": 9,
   "id": "171334d6-1a18-4bdd-9d5c-7d7be107f001",
   "metadata": {},
   "outputs": [
    {
     "name": "stdout",
     "output_type": "stream",
     "text": [
      "0.7134629229661628\n"
     ]
    }
   ],
   "source": [
    "from sklearn.naive_bayes import GaussianNB\n",
    "\n",
    "gnb = GaussianNB()\n",
    "gnb.fit(x_train, y_train)\n",
    "score = gnb.score(x_test, y_test)\n",
    "print(score)"
   ]
  },
  {
   "cell_type": "code",
   "execution_count": 10,
   "id": "57256be9-7b4b-4d8a-b807-8124d4f225f0",
   "metadata": {},
   "outputs": [
    {
     "name": "stdout",
     "output_type": "stream",
     "text": [
      "0.8473722102231821\n"
     ]
    }
   ],
   "source": [
    "from sklearn import tree\n",
    "\n",
    "clf = tree.DecisionTreeClassifier()\n",
    "clf.fit(x_train, y_train)\n",
    "score = clf.score(x_test, y_test)\n",
    "print(score)\n",
    "r = tree.export_text(clf, feature_names=['Period', 'Impact', 'Duration', 'Depth', 'Prad', 'Teq'])\n",
    "# print(r)"
   ]
  },
  {
   "cell_type": "code",
   "execution_count": 11,
   "id": "f46ef566-4fa6-4340-a9d7-6abc675b9873",
   "metadata": {},
   "outputs": [
    {
     "data": {
      "text/plain": [
       "0.8588903862500779"
      ]
     },
     "execution_count": 11,
     "metadata": {},
     "output_type": "execute_result"
    }
   ],
   "source": [
    "from sklearn.model_selection import cross_val_score\n",
    "from sklearn.ensemble import RandomForestClassifier\n",
    "\n",
    "X = np.array([planet[0] for planet in clean_data])\n",
    "y = np.array([planet[1] for planet in clean_data])\n",
    "\n",
    "clf = RandomForestClassifier(n_estimators=100, max_depth=5, min_samples_split=2, random_state=0)\n",
    "scores = cross_val_score(clf, X, y, cv=10)\n",
    "scores.mean()"
   ]
  },
  {
   "cell_type": "code",
   "execution_count": null,
   "id": "d398fa9c-9c93-46a1-a069-9edd9b0306f1",
   "metadata": {},
   "outputs": [],
   "source": []
  }
 ],
 "metadata": {
  "kernelspec": {
   "display_name": "Python 3 (ipykernel)",
   "language": "python",
   "name": "python3"
  },
  "language_info": {
   "codemirror_mode": {
    "name": "ipython",
    "version": 3
   },
   "file_extension": ".py",
   "mimetype": "text/x-python",
   "name": "python",
   "nbconvert_exporter": "python",
   "pygments_lexer": "ipython3",
   "version": "3.8.5"
  }
 },
 "nbformat": 4,
 "nbformat_minor": 5
}
